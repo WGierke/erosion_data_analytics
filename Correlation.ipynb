{
 "cells": [
  {
   "cell_type": "code",
   "execution_count": 1,
   "metadata": {
    "collapsed": true
   },
   "outputs": [],
   "source": [
    "%matplotlib inline\n",
    "import pandas as pd\n",
    "import numpy as np\n",
    "import matplotlib\n",
    "import matplotlib.pyplot as plt\n",
    "import seaborn as sns\n",
    "from process import get_processed_data\n",
    "df = get_processed_data(transform=False)"
   ]
  },
  {
   "cell_type": "code",
   "execution_count": 2,
   "metadata": {
    "collapsed": false
   },
   "outputs": [
    {
     "data": {
      "text/plain": [
       "Index(['Unnamed: 0', 'Paper', 'Name', 'Latitude', 'Longitude',\n",
       "       'Mean basin elevation (m)', 'Basin Relief (m)', 'Basin Area (km2)',\n",
       "       'Mean Latutide (dec. Deg.)', 'Mean Longitude (dec. Deg)',\n",
       "       'Effective basin elevation (m)', 'Mean Basin slope', 'Rock type',\n",
       "       'Mean annual precipitation (mm/yr)', 'Mean annual Temperature (C)',\n",
       "       '% Vegetation', 'Seismicity', 'Seismic regime', 'Climate zone main',\n",
       "       'Cronus erosion rate (m/My)', 'Cronus erosion rate error (m/My)'],\n",
       "      dtype='object')"
      ]
     },
     "execution_count": 2,
     "metadata": {},
     "output_type": "execute_result"
    }
   ],
   "source": [
    "df.columns"
   ]
  },
  {
   "cell_type": "code",
   "execution_count": 18,
   "metadata": {
    "collapsed": false
   },
   "outputs": [
    {
     "data": {
      "text/plain": [
       "[]"
      ]
     },
     "execution_count": 18,
     "metadata": {},
     "output_type": "execute_result"
    }
   ],
   "source": [
    "[i for i in df.isnull().values if i is False]"
   ]
  },
  {
   "cell_type": "code",
   "execution_count": 36,
   "metadata": {
    "collapsed": false
   },
   "outputs": [],
   "source": [
    "df.dropna(axis=0, how='any', inplace=True)"
   ]
  },
  {
   "cell_type": "code",
   "execution_count": 42,
   "metadata": {
    "collapsed": false
   },
   "outputs": [],
   "source": [
    "from scipy.stats import pearsonr\n",
    "#def cluster_correlations(rock_type, climate_zone, df):\n",
    "def cluster_correlation(rock_type, climate_zone, df):\n",
    "    columns = list(df.columns)\n",
    "    columns.remove('Rock type')\n",
    "    columns.remove('Climate zone main')\n",
    "    correlation_matrix = pd.DataFrame(index=columns, columns=columns)\n",
    "    for col in columns:\n",
    "        for col2 in columns:\n",
    "            correlation_matrix.set_value(col, col2, pearsonr(df[col], df[col2]))\n",
    "    erosion_corr = correlation_matrix['Cronus erosion rate (m/My)']\n",
    "    erosion_corr.drop('Cronus erosion rate (m/My)', inplace=True)\n",
    "    erosion_corr.drop('Cronus erosion rate error (m/My)', inplace=True)\n",
    "    return erosion_corr.sort_values()\n",
    "\n",
    "\n"
   ]
  },
  {
   "cell_type": "code",
   "execution_count": 22,
   "metadata": {
    "collapsed": false
   },
   "outputs": [],
   "source": [
    "df.drop('Paper', 1, inplace=True)\n",
    "df.drop('Unnamed: 0', 1, inplace=True)\n",
    "df.drop('Name', 1, inplace=True)"
   ]
  },
  {
   "cell_type": "code",
   "execution_count": 37,
   "metadata": {
    "collapsed": false
   },
   "outputs": [
    {
     "data": {
      "text/plain": [
       "False"
      ]
     },
     "execution_count": 37,
     "metadata": {},
     "output_type": "execute_result"
    }
   ],
   "source": [
    "a = sorted(a, key=lambda x: x.modified, reverse=True)"
   ]
  },
  {
   "cell_type": "code",
   "execution_count": 55,
   "metadata": {
    "collapsed": false
   },
   "outputs": [
    {
     "data": {
      "text/plain": [
       "Mean annual Temperature (C)          (-0.214312886076, 2.54625533338e-13)\n",
       "% Vegetation                         (-0.103950652998, 0.000436453606281)\n",
       "Basin Area (km2)                       (-0.0106554797796, 0.719188272775)\n",
       "Mean annual precipitation (mm/yr)       (0.0329453976941, 0.266166318997)\n",
       "Mean Longitude (dec. Deg)              (0.10754528901, 0.000273362200081)\n",
       "Longitude                             (0.116167478157, 8.38898484041e-05)\n",
       "Latitude                              (0.126290300536, 1.88253491536e-05)\n",
       "Seismic regime                        (0.134210876857, 5.38773389162e-06)\n",
       "Mean Latutide (dec. Deg.)             (0.134402357859, 5.22253509621e-06)\n",
       "Seismicity                               (0.224972519, 1.47444578822e-14)\n",
       "Mean basin elevation (m)                (0.239056139648, 2.720483314e-16)\n",
       "Effective basin elevation (m)         (0.247735201318, 2.03617834062e-17)\n",
       "Basin Relief (m)                       (0.285817128323, 6.8445526637e-23)\n",
       "Mean Basin slope                      (0.345035921104, 3.03912473582e-33)\n",
       "Name: Cronus erosion rate (m/My), dtype: object"
      ]
     },
     "execution_count": 55,
     "metadata": {},
     "output_type": "execute_result"
    }
   ],
   "source": [
    "erosion_corr = correlation_matrix['Cronus erosion rate (m/My)']\n",
    "erosion_corr.drop('Cronus erosion rate (m/My)', inplace=True)\n",
    "erosion_corr.drop('Cronus erosion rate error (m/My)', inplace=True)\n",
    "erosion_corr.sort_values()"
   ]
  },
  {
   "cell_type": "code",
   "execution_count": 46,
   "metadata": {
    "collapsed": false
   },
   "outputs": [
    {
     "ename": "NameError",
     "evalue": "name 'erosion_corr' is not defined",
     "output_type": "error",
     "traceback": [
      "\u001b[0;31m---------------------------------------------------------------------------\u001b[0m",
      "\u001b[0;31mNameError\u001b[0m                                 Traceback (most recent call last)",
      "\u001b[0;32m<ipython-input-46-c03be3425cfb>\u001b[0m in \u001b[0;36m<module>\u001b[0;34m()\u001b[0m\n\u001b[0;32m----> 1\u001b[0;31m \u001b[0mtype\u001b[0m\u001b[0;34m(\u001b[0m\u001b[0merosion_corr\u001b[0m\u001b[0;34m)\u001b[0m\u001b[0;34m\u001b[0m\u001b[0m\n\u001b[0m",
      "\u001b[0;31mNameError\u001b[0m: name 'erosion_corr' is not defined"
     ]
    }
   ],
   "source": []
  },
  {
   "cell_type": "code",
   "execution_count": null,
   "metadata": {
    "collapsed": true
   },
   "outputs": [],
   "source": []
  }
 ],
 "metadata": {
  "kernelspec": {
   "display_name": "Python 3",
   "language": "python",
   "name": "python3"
  },
  "language_info": {
   "codemirror_mode": {
    "name": "ipython",
    "version": 3
   },
   "file_extension": ".py",
   "mimetype": "text/x-python",
   "name": "python",
   "nbconvert_exporter": "python",
   "pygments_lexer": "ipython3",
   "version": "3.5.1"
  }
 },
 "nbformat": 4,
 "nbformat_minor": 0
}
