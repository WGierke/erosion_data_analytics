{
 "cells": [
  {
   "cell_type": "code",
   "execution_count": 146,
   "metadata": {
    "collapsed": false
   },
   "outputs": [],
   "source": [
    "%matplotlib inline\n",
    "import pandas as pd\n",
    "import numpy as np\n",
    "import matplotlib\n",
    "import matplotlib.pyplot as plt\n",
    "import seaborn as sns\n",
    "from process import get_processed_data\n",
    "df = get_processed_data(transform=False)"
   ]
  },
  {
   "cell_type": "code",
   "execution_count": 147,
   "metadata": {
    "collapsed": false
   },
   "outputs": [],
   "source": [
    "df.drop('Paper', 1, inplace=True)\n",
    "df.drop('Unnamed: 0', 1, inplace=True)\n",
    "df.drop('Name', 1, inplace=True)\n",
    "df.drop('Latitude', 1, inplace=True)\n",
    "df.drop('Longitude', 1, inplace=True)\n",
    "df.drop('Mean Latutide (dec. Deg.)', 1, inplace=True)\n",
    "df.drop('Mean Longitude (dec. Deg)', 1, inplace=True)\n",
    "df.dropna(axis=0, how='any', inplace=True)"
   ]
  },
  {
   "cell_type": "markdown",
   "metadata": {},
   "source": [
    "## Finding correlations using the Pearson coefficient\n",
    "We want to find features that correlate with the erosion rate.\n",
    "Since 'Rock type' and 'Climate zone' are categorical data, we calculate the Pearson coefficient for every combination of the feature instances.\n",
    "In the end, we summarize the weighted Pearson coefficients to get an overview of which features correlate with the erosion rate."
   ]
  },
  {
   "cell_type": "code",
   "execution_count": 148,
   "metadata": {
    "collapsed": false
   },
   "outputs": [],
   "source": [
    "from scipy.stats import pearsonr\n",
    "'''\n",
    "Build a matrix that holds the Pearson coefficients and p-values for every combination of features\n",
    "'''\n",
    "def cluster_correlation(df):\n",
    "    columns = list(df.columns)\n",
    "    columns.remove('Rock type')\n",
    "    columns.remove('Climate zone main')\n",
    "    columns.remove('Cronus erosion rate error (m/My)')\n",
    "    correlation_matrix = pd.DataFrame(index=columns, columns=columns)\n",
    "    for col in columns:\n",
    "        for col2 in columns:\n",
    "            correlation_matrix.set_value(col, col2, pearsonr(df[col], df[col2]))\n",
    "    erosion_corr = correlation_matrix['Cronus erosion rate (m/My)']\n",
    "    erosion_corr.drop(\"Cronus erosion rate (m/My)\", inplace=True)\n",
    "    return erosion_corr.sort_values()"
   ]
  },
  {
   "cell_type": "markdown",
   "metadata": {},
   "source": [
    "### Clustering Pearson coefficient matrix "
   ]
  },
  {
   "cell_type": "code",
   "execution_count": 149,
   "metadata": {
    "collapsed": false
   },
   "outputs": [
    {
     "name": "stderr",
     "output_type": "stream",
     "text": [
      "/home/madness/Documents/Projects/erosion_data_analytics/venv/lib/python3.5/site-packages/numpy/core/_methods.py:59: RuntimeWarning: Mean of empty slice.\n",
      "  warnings.warn(\"Mean of empty slice.\", RuntimeWarning)\n"
     ]
    }
   ],
   "source": [
    "'''\n",
    "Calculate the correlation matrix for every combination of a climate zone and a rock type.\n",
    "The first element of each cell holds the size of the sample size.\n",
    "'''\n",
    "erosion_correlation = cluster_correlation(df)\n",
    "climate_zones = df[\"Climate zone main\"].unique()\n",
    "rock_types = df[\"Rock type\"].unique()\n",
    "clustered_correlations = pd.DataFrame(index=climate_zones, columns=rock_types)\n",
    "for rock_type in rock_types:\n",
    "    for climate_zone in climate_zones:\n",
    "        current_df = df[(df['Rock type'] == rock_type) & (df['Climate zone main'] == climate_zone)]\n",
    "        erosion_corr = cluster_correlation(current_df)\n",
    "        clustered_correlations.set_value(climate_zone, rock_type, (len(current_df), erosion_corr))"
   ]
  },
  {
   "cell_type": "markdown",
   "metadata": {},
   "source": [
    "The next idea was to find the feature with the highest Pearson score for each cluster. Therefore we compute the absolute value of the score. The table shows a possibly huge impact on the erosion rate from the basin dependant features. Nevertheless some splits did'nt consist of many samples. So we decided to weight the features. "
   ]
  },
  {
   "cell_type": "code",
   "execution_count": 151,
   "metadata": {
    "collapsed": false
   },
   "outputs": [
    {
     "data": {
      "text/html": [
       "<div>\n",
       "<table border=\"1\" class=\"dataframe\">\n",
       "  <thead>\n",
       "    <tr style=\"text-align: right;\">\n",
       "      <th></th>\n",
       "      <th>Mixed</th>\n",
       "      <th>Sedimentary</th>\n",
       "      <th>Igneous</th>\n",
       "      <th>Metamorphic</th>\n",
       "    </tr>\n",
       "  </thead>\n",
       "  <tbody>\n",
       "    <tr>\n",
       "      <th>Arid</th>\n",
       "      <td>Mean Basin slope: 0.547342161079</td>\n",
       "      <td>% Vegetation: 0.533868899418</td>\n",
       "      <td>Mean annual precipitation (mm/yr): 0.65034228426</td>\n",
       "      <td>Mean annual precipitation (mm/yr): 0.709204375452</td>\n",
       "    </tr>\n",
       "    <tr>\n",
       "      <th>Temperate</th>\n",
       "      <td>Seismicity: 0.524025512561</td>\n",
       "      <td>Basin Relief (m): 0.587623428626</td>\n",
       "      <td>Mean Basin slope: 0.370978223948</td>\n",
       "      <td>Mean basin elevation (m): 0.390217047706</td>\n",
       "    </tr>\n",
       "    <tr>\n",
       "      <th>Cold</th>\n",
       "      <td>Mean Basin slope: 0.693383731525</td>\n",
       "      <td>Basin Relief (m): 0.949707103531</td>\n",
       "      <td>Mean Basin slope: 0.659463037576</td>\n",
       "      <td>Basin Relief (m): 0.658573001808</td>\n",
       "    </tr>\n",
       "    <tr>\n",
       "      <th>Tropical</th>\n",
       "      <td>Mean annual Temperature (C): -0.372898253192</td>\n",
       "      <td>Seismicity: 0.766121700157</td>\n",
       "      <td>Mean annual Temperature (C): 0.812569301246</td>\n",
       "      <td>Basin Area (km2): 0.456314039655</td>\n",
       "    </tr>\n",
       "    <tr>\n",
       "      <th>Polar</th>\n",
       "      <td>Mean Basin slope: 0.975127415637</td>\n",
       "      <td>Seismicity: 0.609084386694</td>\n",
       "      <td>: 0</td>\n",
       "      <td>Mean Basin slope: 0.441220802543</td>\n",
       "    </tr>\n",
       "  </tbody>\n",
       "</table>\n",
       "</div>"
      ],
      "text/plain": [
       "                                                  Mixed  \\\n",
       "Arid                   Mean Basin slope: 0.547342161079   \n",
       "Temperate                    Seismicity: 0.524025512561   \n",
       "Cold                   Mean Basin slope: 0.693383731525   \n",
       "Tropical   Mean annual Temperature (C): -0.372898253192   \n",
       "Polar                  Mean Basin slope: 0.975127415637   \n",
       "\n",
       "                                Sedimentary  \\\n",
       "Arid           % Vegetation: 0.533868899418   \n",
       "Temperate  Basin Relief (m): 0.587623428626   \n",
       "Cold       Basin Relief (m): 0.949707103531   \n",
       "Tropical         Seismicity: 0.766121700157   \n",
       "Polar            Seismicity: 0.609084386694   \n",
       "\n",
       "                                                    Igneous  \\\n",
       "Arid       Mean annual precipitation (mm/yr): 0.65034228426   \n",
       "Temperate                  Mean Basin slope: 0.370978223948   \n",
       "Cold                       Mean Basin slope: 0.659463037576   \n",
       "Tropical        Mean annual Temperature (C): 0.812569301246   \n",
       "Polar                                                   : 0   \n",
       "\n",
       "                                                 Metamorphic  \n",
       "Arid       Mean annual precipitation (mm/yr): 0.709204375452  \n",
       "Temperate           Mean basin elevation (m): 0.390217047706  \n",
       "Cold                        Basin Relief (m): 0.658573001808  \n",
       "Tropical                    Basin Area (km2): 0.456314039655  \n",
       "Polar                       Mean Basin slope: 0.441220802543  "
      ]
     },
     "execution_count": 151,
     "metadata": {},
     "output_type": "execute_result"
    }
   ],
   "source": [
    "most_correlating_features = pd.DataFrame(index=climate_zones, columns=rock_types)\n",
    "\n",
    "for rock_type in rock_types:\n",
    "    for climate_zone in climate_zones:\n",
    "        cell = clustered_correlations.loc[climate_zone][rock_type]\n",
    "        cell_serie = cell[1]\n",
    "        max = 0\n",
    "        max_feature = \"\"\n",
    "        for feature_name, value in cell_serie.iteritems():\n",
    "            if abs(value[0]) > abs(max):\n",
    "                max = value[0]\n",
    "                max_feature = feature_name\n",
    "        most_correlating_features.set_value(climate_zone, rock_type, max_feature + \": \" + str(max))\n",
    "most_correlating_features"
   ]
  },
  {
   "cell_type": "markdown",
   "metadata": {},
   "source": [
    "### Weighting features with sample size and Pearson coefficient"
   ]
  },
  {
   "cell_type": "code",
   "execution_count": 155,
   "metadata": {
    "collapsed": false
   },
   "outputs": [],
   "source": [
    "'''\n",
    "Summarize the weighted Pearson coefficients of each split\n",
    "'''\n",
    "from collections import Counter\n",
    "import operator\n",
    "result_df = pd.DataFrame(index=climate_zones, columns=rock_types)\n",
    "data_size = len(df)\n",
    "\n",
    "weighted_features = dict.fromkeys(list(df.columns), 0)\n",
    "feature_dict = {}\n",
    "    \n",
    "for rock_type in rock_types:\n",
    "    for climate_zone in climate_zones:\n",
    "        cell = clustered_correlations.loc[climate_zone][rock_type]\n",
    "        size = cell[0]\n",
    "        if size > 0:\n",
    "            for feature_name, value in cell[1].iteritems():\n",
    "                if not np.isnan(value[0]):\n",
    "                    weighted_features[feature_name] += size * value[0]\n",
    "\n",
    "del weighted_features[\"Rock type\"]\n",
    "del weighted_features[\"Climate zone main\"]\n",
    "del weighted_features[\"Cronus erosion rate (m/My)\"]\n",
    "del weighted_features[\"Cronus erosion rate error (m/My)\"]\n",
    "sorted_weighted_features = sorted(weighted_features.items(), key=operator.itemgetter(1))"
   ]
  },
  {
   "cell_type": "markdown",
   "metadata": {},
   "source": [
    "We weight the features based on the amount of data the split consists of. In the end, we remove features whose Pearson coefficients aren't useful for further analysis."
   ]
  },
  {
   "cell_type": "code",
   "execution_count": 153,
   "metadata": {
    "collapsed": false
   },
   "outputs": [
    {
     "data": {
      "image/png": "[encoded data removed]",
      "text/plain": [
       "<matplotlib.figure.Figure at 0x7f4b7525c400>"
      ]
     },
     "metadata": {},
     "output_type": "display_data"
    }
   ],
   "source": [
    "fig_size = plt.rcParams[\"figure.figsize\"]\n",
    "fig_size[0] = 16\n",
    "fig_size[1] = 8\n",
    "plt.rcParams[\"figure.figsize\"] = fig_size\n",
    "plt.bar(range(len(sorted_weighted_features)), [x[1] for x in sorted_weighted_features], align='center')\n",
    "plt.xticks(range(len(sorted_weighted_features)), [i[0] for i in sorted_weighted_features], rotation='vertical')\n",
    "plt.show()"
   ]
  },
  {
   "cell_type": "markdown",
   "metadata": {},
   "source": [
    "As you can see, the weighted Pearson coefficients state that the *Mean annual Temperature* and the *Vegetation* features correlate negatively.\n",
    "On the other side, the *Mean Basin slope* has the largest positive correlation on the erosion rate.\n",
    "Unfortunately, since the sample data is very small, we can't be certain that our results are equal on bigger sample sizes."
   ]
  }
 ],
 "metadata": {
  "kernelspec": {
   "display_name": "Python 3",
   "language": "python",
   "name": "python3"
  },
  "language_info": {
   "codemirror_mode": {
    "name": "ipython",
    "version": 3
   },
   "file_extension": ".py",
   "mimetype": "text/x-python",
   "name": "python",
   "nbconvert_exporter": "python",
   "pygments_lexer": "ipython3",
   "version": "3.5.0+"
  }
 },
 "nbformat": 4,
 "nbformat_minor": 0
}
